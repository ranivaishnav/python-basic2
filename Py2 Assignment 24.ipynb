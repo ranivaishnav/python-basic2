{
 "cells": [
  {
   "cell_type": "markdown",
   "id": "7441bfe7",
   "metadata": {},
   "source": [
    "# Python Basic Assignment 24"
   ]
  },
  {
   "cell_type": "markdown",
   "id": "60ef1ff9",
   "metadata": {},
   "source": [
    "## 1.Create a function that takes an integer and returns a list from 1 to the given number, where:\n",
    "1.If the number can be divided evenly by 4, amplify it by 10 (i.e. return 10 times the number).\n",
    "\n",
    "2.If the number cannot be divided evenly by 4, simply return the number.\n",
    "\n",
    "Examples:\n",
    "amplify(4) ➞ [1, 2, 3, 40]\n",
    "\n",
    "amplify(3) ➞ [1, 2, 3]\n",
    "\n",
    "amplify(25) ➞ [1, 2, 3, 40, 5, 6, 7, 80, 9, 10, 11, 120, 13, 14, 15, 160, 17, 18, 19, 200, 21, 22, 23, 240, 25]\n",
    "\n",
    "Notes:\n",
    "1.The given integer will always be equal to or greater than 1.\n",
    "\n",
    "2.Include the number (see example above).\n",
    "\n",
    "3.To perform this problem with its intended purpose, try doing it with list"
   ]
  },
  {
   "cell_type": "code",
   "execution_count": 38,
   "id": "bfaeff65",
   "metadata": {},
   "outputs": [
    {
     "name": "stdout",
     "output_type": "stream",
     "text": [
      "4 ➞ [1, 2, 3, 40]\n",
      "3 ➞ [1, 2, 3]\n",
      "25 ➞ [1, 2, 3, 40, 5, 6, 7, 80, 9, 10, 11, 120, 13, 14, 15, 160, 17, 18, 19, 200, 21, 22, 23, 240, 25]\n"
     ]
    }
   ],
   "source": [
    "def amplify(in_num):\n",
    "    out_list = []\n",
    "    for ele in range(1,in_num+1):\n",
    "        if ele%4 == 0:\n",
    "            out_list.append(ele*10)\n",
    "        else:\n",
    "            out_list.append(ele)\n",
    "    print(f'{in_num} ➞ {out_list}')\n",
    "            \n",
    "amplify(4)\n",
    "amplify(3)\n",
    "amplify(25)"
   ]
  },
  {
   "cell_type": "code",
   "execution_count": 39,
   "id": "ac8b2022",
   "metadata": {},
   "outputs": [],
   "source": [
    "#solution 2\n",
    "def amplify(n):\n",
    "    return [i*10 if i % 4 == 0 else i for i in range(1,n+1) ]"
   ]
  },
  {
   "cell_type": "code",
   "execution_count": 40,
   "id": "dc1ca77e",
   "metadata": {},
   "outputs": [
    {
     "data": {
      "text/plain": [
       "[1, 2, 3, 40]"
      ]
     },
     "execution_count": 40,
     "metadata": {},
     "output_type": "execute_result"
    }
   ],
   "source": [
    "amplify(4)"
   ]
  },
  {
   "cell_type": "code",
   "execution_count": 41,
   "id": "f4a9e787",
   "metadata": {},
   "outputs": [
    {
     "data": {
      "text/plain": [
       "[1, 2, 3]"
      ]
     },
     "execution_count": 41,
     "metadata": {},
     "output_type": "execute_result"
    }
   ],
   "source": [
    "amplify(3)"
   ]
  },
  {
   "cell_type": "code",
   "execution_count": 42,
   "id": "f7921570",
   "metadata": {},
   "outputs": [
    {
     "data": {
      "text/plain": [
       "[1,\n",
       " 2,\n",
       " 3,\n",
       " 40,\n",
       " 5,\n",
       " 6,\n",
       " 7,\n",
       " 80,\n",
       " 9,\n",
       " 10,\n",
       " 11,\n",
       " 120,\n",
       " 13,\n",
       " 14,\n",
       " 15,\n",
       " 160,\n",
       " 17,\n",
       " 18,\n",
       " 19,\n",
       " 200,\n",
       " 21,\n",
       " 22,\n",
       " 23,\n",
       " 240]"
      ]
     },
     "execution_count": 42,
     "metadata": {},
     "output_type": "execute_result"
    }
   ],
   "source": [
    "amplify(24)"
   ]
  },
  {
   "cell_type": "markdown",
   "id": "45ec28ba",
   "metadata": {},
   "source": [
    "## 2.Create a function that takes a list of numbers and return the number that's unique.\n",
    "Examples:\n",
    "    \n",
    "unique([3, 3, 3, 7, 3, 3]) ➞ 7\n",
    "\n",
    "unique([0, 0, 0.77, 0, 0]) ➞ 0.77\n",
    "\n",
    "unique([0, 1, 1, 1, 1, 1, 1, 1]) ➞ 0\n",
    "\n",
    "Notes:\n",
    "Test cases will always have exactly one unique number while all others are the same."
   ]
  },
  {
   "cell_type": "code",
   "execution_count": 43,
   "id": "697d8be5",
   "metadata": {},
   "outputs": [],
   "source": [
    "def unique(lst):\n",
    "    s = list(set(lst))# give us unique value\n",
    "    for i in s:\n",
    "        if lst.count(i) == 1:\n",
    "            return i"
   ]
  },
  {
   "cell_type": "code",
   "execution_count": 44,
   "id": "da072d36",
   "metadata": {},
   "outputs": [
    {
     "data": {
      "text/plain": [
       "7"
      ]
     },
     "execution_count": 44,
     "metadata": {},
     "output_type": "execute_result"
    }
   ],
   "source": [
    "unique([3,3,3,7,3,3])"
   ]
  },
  {
   "cell_type": "code",
   "execution_count": 45,
   "id": "f5800e90",
   "metadata": {},
   "outputs": [
    {
     "data": {
      "text/plain": [
       "0.77"
      ]
     },
     "execution_count": 45,
     "metadata": {},
     "output_type": "execute_result"
    }
   ],
   "source": [
    "unique([0, 0, 0.77, 0, 0])"
   ]
  },
  {
   "cell_type": "code",
   "execution_count": 46,
   "id": "7838f6ae",
   "metadata": {},
   "outputs": [
    {
     "data": {
      "text/plain": [
       "0"
      ]
     },
     "execution_count": 46,
     "metadata": {},
     "output_type": "execute_result"
    }
   ],
   "source": [
    "unique([0, 1, 1, 1, 1, 1, 1, 1])"
   ]
  },
  {
   "cell_type": "markdown",
   "id": "2631ed7b",
   "metadata": {},
   "source": [
    "## 3.Your task is to create a Circle constructor that creates a circle with a radius provided by an argument. The circles constructed must have two getters getArea() (PIr^2) and getPerimeter() (2PI*r) which give both respective areas and perimeter (circumference). For help with this class, I have provided you with a Rectangle constructor which you can use as a base example ?\n",
    "Examples:\n",
    "circy = Circle(11)\n",
    "circy.getArea()\n",
    "\n",
    "### Should return 380.132711084365\n",
    "circy = Circle(4.44)\n",
    "circy.getPerimeter()\n",
    "\n",
    "### Should return 27.897342763877365\n",
    "\n",
    "Notes:\n",
    "Round results up to the nearest integer."
   ]
  },
  {
   "cell_type": "code",
   "execution_count": 47,
   "id": "e1d13d54",
   "metadata": {},
   "outputs": [
    {
     "data": {
      "text/plain": [
       "380"
      ]
     },
     "execution_count": 47,
     "metadata": {},
     "output_type": "execute_result"
    }
   ],
   "source": [
    "class Circle():\n",
    "    def __init__(self, r):\n",
    "        self.radius = r\n",
    "\n",
    "    def getArea(self):\n",
    "        return round(self.radius**2*3.14)\n",
    "    \n",
    "    def getPerimeter(self):\n",
    "        return round(2*self.radius*3.14)\n",
    "\n",
    "circy = Circle(11)\n",
    "circy.getArea()"
   ]
  },
  {
   "cell_type": "code",
   "execution_count": 48,
   "id": "49f56a44",
   "metadata": {},
   "outputs": [
    {
     "data": {
      "text/plain": [
       "28"
      ]
     },
     "execution_count": 48,
     "metadata": {},
     "output_type": "execute_result"
    }
   ],
   "source": [
    "circy = Circle(4.44)\n",
    "circy.getPerimeter()"
   ]
  },
  {
   "cell_type": "code",
   "execution_count": 49,
   "id": "b64a0d1f",
   "metadata": {},
   "outputs": [
    {
     "name": "stdout",
     "output_type": "stream",
     "text": [
      "Radius ➞ 380\n",
      "Perimeter ➞ 28\n"
     ]
    }
   ],
   "source": [
    "import math\n",
    "\n",
    "class Circle:\n",
    "    def __init__(self, radius):\n",
    "        self.radius = radius\n",
    "    def getArea(self):\n",
    "        print(f'Radius ➞ {round(math.pi*self.radius*self.radius)}')\n",
    "    def getPerimeter(self):\n",
    "        print(f'Perimeter ➞ {round(2*math.pi*self.radius)}')\n",
    "    \n",
    "circy = Circle(11)\n",
    "circy.getArea()\n",
    "\n",
    "circy = Circle(4.44)\n",
    "circy.getPerimeter()"
   ]
  },
  {
   "cell_type": "markdown",
   "id": "ff2b3256",
   "metadata": {},
   "source": [
    "## 4.Create a function that takes a list of strings and return a list, sorted from shortest to longest.\n",
    "Examples:\n",
    "    \n",
    "sort_by_length([\"Google\", \"Apple\", \"Microsoft\"])\n",
    "\n",
    "➞ [\"Apple\", \"Google\", \"Microsoft\"]\n",
    "\n",
    "sort_by_length([\"Leonardo\", \"Michelangelo\", \"Raphael\", \"Donatello\"])\n",
    "\n",
    "➞ [\"Raphael\", \"Leonardo\", \"Donatello\", \"Michelangelo\"]\n",
    "\n",
    "sort_by_length([\"Turing\", \"Einstein\", \"Jung\"])\n",
    "\n",
    "➞ [\"Jung\", \"Turing\", \"Einstein\"]\n",
    "\n",
    "Notes:\n",
    "All test cases contain lists with strings of different lengths, so you won't have to deal with multiple strings of the same length."
   ]
  },
  {
   "cell_type": "code",
   "execution_count": 50,
   "id": "03ed1f33",
   "metadata": {},
   "outputs": [
    {
     "name": "stdout",
     "output_type": "stream",
     "text": [
      "['Apple', 'Google', 'Microsoft']\n",
      "['Raphael', 'Leonardo', 'Donatello', 'Michelangelo']\n",
      "['Jung', 'Turing', 'Einstein']\n"
     ]
    }
   ],
   "source": [
    "def sort_by_length(in_list):\n",
    "    print(sorted(in_list,key=len))\n",
    "\n",
    "sort_by_length([\"Google\", \"Apple\", \"Microsoft\"])\n",
    "sort_by_length([\"Leonardo\", \"Michelangelo\", \"Raphael\", \"Donatello\"])\n",
    "sort_by_length([\"Turing\", \"Einstein\", \"Jung\"])"
   ]
  },
  {
   "cell_type": "code",
   "execution_count": 51,
   "id": "7b7cfb14",
   "metadata": {},
   "outputs": [],
   "source": [
    "#solution 2\n",
    "def sort_by_length(lst):\n",
    "    return sorted(lst, key = len)"
   ]
  },
  {
   "cell_type": "code",
   "execution_count": 52,
   "id": "c436cd00",
   "metadata": {},
   "outputs": [
    {
     "data": {
      "text/plain": [
       "['Apple', 'Google', 'Microsoft']"
      ]
     },
     "execution_count": 52,
     "metadata": {},
     "output_type": "execute_result"
    }
   ],
   "source": [
    "sort_by_length(['Google', 'Apple', 'Microsoft'])"
   ]
  },
  {
   "cell_type": "code",
   "execution_count": 53,
   "id": "47363bff",
   "metadata": {},
   "outputs": [
    {
     "data": {
      "text/plain": [
       "['Raphael', 'Leonardo', 'Donatello', 'Michelangelo']"
      ]
     },
     "execution_count": 53,
     "metadata": {},
     "output_type": "execute_result"
    }
   ],
   "source": [
    "sort_by_length(['Leonardo', 'Michelangelo', 'Raphael', 'Donatello'])"
   ]
  },
  {
   "cell_type": "code",
   "execution_count": 54,
   "id": "58ca6f54",
   "metadata": {},
   "outputs": [
    {
     "data": {
      "text/plain": [
       "['Jung', 'Turing', 'Einstein']"
      ]
     },
     "execution_count": 54,
     "metadata": {},
     "output_type": "execute_result"
    }
   ],
   "source": [
    "sort_by_length(['Turing', 'Einstein', 'Jung'])"
   ]
  },
  {
   "cell_type": "markdown",
   "id": "e5b023d1",
   "metadata": {},
   "source": [
    "## 5.Create a function that validates whether three given integers form a Pythagorean triplet. The sum of the squares of the two smallest integers must equal the square of the largest number to be validated.\n",
    "Examples:\n",
    "`is_triplet(3, 4, 5) ➞ True\n",
    "\n",
    "### 3² + 4² = 25\n",
    "### 5² = 25\n",
    "is_triplet(13, 5, 12) ➞ True\n",
    "\n",
    "### 5² + 12² = 169\n",
    "### 13² = 169\n",
    "is_triplet(1, 2, 3) ➞ False\n",
    "\n",
    "### 1² + 2² = 5\n",
    "### 3² = 9`\n",
    "\n",
    "Notes: Numbers may not be given in a sorted order."
   ]
  },
  {
   "cell_type": "code",
   "execution_count": 55,
   "id": "2595294b",
   "metadata": {},
   "outputs": [
    {
     "name": "stdout",
     "output_type": "stream",
     "text": [
      "(3, 4, 5) ➞ True\n",
      "(3, 4, 5) ➞ True\n",
      "(1, 2, 3) ➞ False\n"
     ]
    }
   ],
   "source": [
    "def is_triplet(a,b,c):\n",
    "    if ((a**2+b**2) == (c**2)):\n",
    "        print(f'{a,b,c} ➞ {True}')\n",
    "    else:\n",
    "        print(f'{a,b,c} ➞ {False}')\n",
    "        \n",
    "is_triplet(3, 4, 5)\n",
    "is_triplet(3, 4, 5)\n",
    "is_triplet(1, 2, 3)"
   ]
  },
  {
   "cell_type": "code",
   "execution_count": 56,
   "id": "d8fa7e9b",
   "metadata": {},
   "outputs": [],
   "source": [
    "def is_triplet(a,b,c):\n",
    "    lst = []\n",
    "    lst.extend((a,b,c))\n",
    "    lst = sorted(lst)\n",
    "\n",
    "    if lst[0]**2 + lst[1]**2 == lst[2]**2:\n",
    "        return True\n",
    "    else:\n",
    "        return False"
   ]
  },
  {
   "cell_type": "code",
   "execution_count": 57,
   "id": "b3adb2fb",
   "metadata": {},
   "outputs": [
    {
     "data": {
      "text/plain": [
       "True"
      ]
     },
     "execution_count": 57,
     "metadata": {},
     "output_type": "execute_result"
    }
   ],
   "source": [
    "is_triplet(3, 4, 5)"
   ]
  },
  {
   "cell_type": "code",
   "execution_count": 58,
   "id": "df93fc37",
   "metadata": {},
   "outputs": [
    {
     "data": {
      "text/plain": [
       "True"
      ]
     },
     "execution_count": 58,
     "metadata": {},
     "output_type": "execute_result"
    }
   ],
   "source": [
    "is_triplet(13, 5, 12) "
   ]
  },
  {
   "cell_type": "code",
   "execution_count": 59,
   "id": "af782b6d",
   "metadata": {},
   "outputs": [
    {
     "data": {
      "text/plain": [
       "False"
      ]
     },
     "execution_count": 59,
     "metadata": {},
     "output_type": "execute_result"
    }
   ],
   "source": [
    "is_triplet(1, 2, 3)"
   ]
  }
 ],
 "metadata": {
  "kernelspec": {
   "display_name": "Python 3 (ipykernel)",
   "language": "python",
   "name": "python3"
  },
  "language_info": {
   "codemirror_mode": {
    "name": "ipython",
    "version": 3
   },
   "file_extension": ".py",
   "mimetype": "text/x-python",
   "name": "python",
   "nbconvert_exporter": "python",
   "pygments_lexer": "ipython3",
   "version": "3.9.7"
  }
 },
 "nbformat": 4,
 "nbformat_minor": 5
}
