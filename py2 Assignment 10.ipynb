{
 "cells": [
  {
   "cell_type": "markdown",
   "id": "2c19f21c",
   "metadata": {},
   "source": [
    "# Python basic assignment 10"
   ]
  },
  {
   "cell_type": "markdown",
   "id": "66eea092",
   "metadata": {},
   "source": [
    "## 1.Write a Python Program to find sum of elements in a list ?"
   ]
  },
  {
   "cell_type": "code",
   "execution_count": 2,
   "id": "662692c9",
   "metadata": {},
   "outputs": [
    {
     "name": "stdout",
     "output_type": "stream",
     "text": [
      "Enter the lenght of your list: 5\n",
      "2\n",
      "6\n",
      "4\n",
      "5\n",
      "3\n",
      "the list is  [2, 6, 4, 5, 3]\n",
      "sum of element in list 20\n"
     ]
    }
   ],
   "source": [
    "n = int(input(\"Enter the lenght of your list: \"))\n",
    "lst = []\n",
    "\n",
    "for i in range(n):\n",
    "    lst.append(int(input()))\n",
    "print(\"the list is \", lst)\n",
    "print('sum of element in list', sum(lst))"
   ]
  },
  {
   "cell_type": "markdown",
   "id": "92b9d67a",
   "metadata": {},
   "source": [
    "# 2. Write a Python program to Multiply all numbers in the list?"
   ]
  },
  {
   "cell_type": "code",
   "execution_count": 4,
   "id": "e646a723",
   "metadata": {},
   "outputs": [
    {
     "name": "stdout",
     "output_type": "stream",
     "text": [
      "Enter the lenth of your list : 4\n",
      "3\n",
      "2\n",
      "4\n",
      "1\n",
      "The List is  [3, 2, 4, 1]\n",
      "Product of elements in List is : 24\n"
     ]
    }
   ],
   "source": [
    "n = int(input(\"Enter the lenth of your list : \"))\n",
    "lst = []\n",
    "\n",
    "for i in range(n):\n",
    "    lst.append(int(input()))\n",
    "print(\"The List is \",lst)\n",
    "product = 1\n",
    "for i in lst:\n",
    "    product = product*i\n",
    "print(\"Product of elements in List is :\",product)"
   ]
  },
  {
   "cell_type": "markdown",
   "id": "5aa3c8da",
   "metadata": {},
   "source": [
    "## 3. Write a Python program to find smallest number in a list?"
   ]
  },
  {
   "cell_type": "code",
   "execution_count": 5,
   "id": "544bfb4f",
   "metadata": {},
   "outputs": [
    {
     "name": "stdout",
     "output_type": "stream",
     "text": [
      "Enter the lenth of your list : 6\n",
      "9\n",
      "4\n",
      "8\n",
      "77\n",
      "11\n",
      "2\n",
      "The List is  [9, 4, 8, 77, 11, 2]\n",
      "The Smallest element in the list is : 2\n"
     ]
    }
   ],
   "source": [
    "n = int(input(\"Enter the lenth of your list : \"))\n",
    "lst = []\n",
    "\n",
    "for i in range(n):\n",
    "    lst.append(int(input()))\n",
    "print(\"The List is \",lst)\n",
    "print(\"The Smallest element in the list is :\",min(lst))"
   ]
  },
  {
   "cell_type": "markdown",
   "id": "f085a679",
   "metadata": {},
   "source": [
    "## 4. Write a Python program to find largest number in a list?"
   ]
  },
  {
   "cell_type": "code",
   "execution_count": 6,
   "id": "853fab01",
   "metadata": {},
   "outputs": [
    {
     "name": "stdout",
     "output_type": "stream",
     "text": [
      "Enter the lenth of your list : 3\n",
      "1\n",
      "6\n",
      "5\n",
      "The List is  [1, 6, 5]\n",
      "The largest element in the list is : 6\n"
     ]
    }
   ],
   "source": [
    "n = int(input(\"Enter the lenth of your list : \"))\n",
    "lst = []\n",
    "\n",
    "for i in range(n):\n",
    "    lst.append(int(input()))\n",
    "print(\"The List is \",lst)\n",
    "print(\"The largest element in the list is :\",max(lst))"
   ]
  },
  {
   "cell_type": "markdown",
   "id": "af1c7898",
   "metadata": {},
   "source": [
    "## 5. Write a Python program to find second largest number in a list?"
   ]
  },
  {
   "cell_type": "code",
   "execution_count": 7,
   "id": "197b0953",
   "metadata": {},
   "outputs": [
    {
     "name": "stdout",
     "output_type": "stream",
     "text": [
      "Enter the lenth of your list : 6\n",
      "2\n",
      "5\n",
      "99\n",
      "87\n",
      "68\n",
      "32\n",
      "The List is  [2, 5, 99, 87, 68, 32]\n",
      "The sorted list is  [2, 5, 32, 68, 87, 99]\n",
      "The second largest element in the list is  87\n"
     ]
    }
   ],
   "source": [
    "n = int(input(\"Enter the lenth of your list : \"))\n",
    "lst = []\n",
    "\n",
    "for i in range(n):\n",
    "    lst.append(int(input()))\n",
    "print(\"The List is \",lst)\n",
    "lst.sort()\n",
    "print(\"The sorted list is \",lst)\n",
    "print(\"The second largest element in the list is \",lst[-2])"
   ]
  },
  {
   "cell_type": "markdown",
   "id": "3a5129fe",
   "metadata": {},
   "source": [
    "## 6. Write a Python program to find N largest elements from a list?"
   ]
  },
  {
   "cell_type": "code",
   "execution_count": 14,
   "id": "2844a8b4",
   "metadata": {},
   "outputs": [
    {
     "name": "stdout",
     "output_type": "stream",
     "text": [
      "Enter the length of your list : 5\n",
      "23\n",
      "63\n",
      "21\n",
      "23\n",
      "25\n",
      "The List is  [23, 63, 21, 23, 25]\n",
      "The sorted list is  [21, 23, 23, 25, 63]\n",
      "Enter how many largest number u want to see in from the list :3\n",
      "3 largest elements from the list are : [23, 25, 63]\n"
     ]
    }
   ],
   "source": [
    "n = int(input(\"Enter the length of your list : \"))\n",
    "lst = []\n",
    "\n",
    "for i in range(n):\n",
    "    lst.append(int(input()))\n",
    "print(\"The List is \",lst)\n",
    "lst.sort()\n",
    "print(\"The sorted list is \",lst)\n",
    "\n",
    "largest = int(input(\"Enter how many largest number u want to see in from the list :\"))\n",
    "\n",
    "if n < largest :\n",
    "    print(\"enterted value is larger then that list length\")\n",
    "else:\n",
    "    print(nlargest,\"largest elements from the list are :\",lst[(n-nlargest):])"
   ]
  },
  {
   "cell_type": "markdown",
   "id": "da4180f3",
   "metadata": {},
   "source": [
    "## 7. Write a Python program to print even numbers in a list?"
   ]
  },
  {
   "cell_type": "code",
   "execution_count": 15,
   "id": "3d2b14a3",
   "metadata": {},
   "outputs": [
    {
     "name": "stdout",
     "output_type": "stream",
     "text": [
      "Enter the lenth of your list : 4\n",
      "3\n",
      "8\n",
      "6\n",
      "84\n",
      "The List is  [3, 8, 6, 84]\n",
      "The even numbers in the list are : [8, 6, 84]\n"
     ]
    }
   ],
   "source": [
    "n = int(input(\"Enter the lenth of your list : \"))\n",
    "lst = []\n",
    "\n",
    "for i in range(n):\n",
    "    lst.append(int(input()))\n",
    "print(\"The List is \",lst)\n",
    "evenlist =[]\n",
    "\n",
    "for i in lst:\n",
    "    if i % 2 == 0:\n",
    "        evenlist.append(i)\n",
    "print(\"The even numbers in the list are :\",evenlist)"
   ]
  },
  {
   "cell_type": "markdown",
   "id": "981b4456",
   "metadata": {},
   "source": [
    "## 8. Write a Python program to print odd numbers in a List?"
   ]
  },
  {
   "cell_type": "code",
   "execution_count": 17,
   "id": "80d2fae9",
   "metadata": {},
   "outputs": [
    {
     "name": "stdout",
     "output_type": "stream",
     "text": [
      "Enter the lenth of your list : 5\n",
      "69\n",
      "84\n",
      "32\n",
      "55\n",
      "3\n",
      "The List is  [69, 84, 32, 55, 3]\n",
      "The even numbers in the list are : [69, 55, 3]\n"
     ]
    }
   ],
   "source": [
    "n = int(input(\"Enter the lenth of your list : \"))\n",
    "lst = []\n",
    "\n",
    "for i in range(n):\n",
    "    lst.append(int(input()))\n",
    "print(\"The List is \",lst)\n",
    "oddlist =[]\n",
    "\n",
    "for i in lst:\n",
    "    if i % 2!= 0:\n",
    "        oddlist.append(i)\n",
    "print(\"The even numbers in the list are :\",oddlist)"
   ]
  },
  {
   "cell_type": "markdown",
   "id": "b1930a16",
   "metadata": {},
   "source": [
    "## 9. Write a Python program to Remove empty List from List?"
   ]
  },
  {
   "cell_type": "code",
   "execution_count": 9,
   "id": "39b4e361",
   "metadata": {},
   "outputs": [
    {
     "name": "stdout",
     "output_type": "stream",
     "text": [
      "The List : [2, [], 4, 5, [], 6, 8, [], 3]\n",
      "The list after removing empty lists\n",
      "[2, 4, 5, 6, 8, 3]\n"
     ]
    }
   ],
   "source": [
    "lst = [2,[],4,5,[],6,8,[],3]\n",
    "print(\"The List :\",lst)\n",
    "removedlist = [ele for ele in lst if ele != []]\n",
    "print(\"The list after removing empty lists\")\n",
    "print(removedlist)"
   ]
  },
  {
   "cell_type": "markdown",
   "id": "a0869c88",
   "metadata": {},
   "source": [
    "## 10. Write a Python program to Cloning or Copying a list?"
   ]
  },
  {
   "cell_type": "code",
   "execution_count": 5,
   "id": "d8b92338",
   "metadata": {},
   "outputs": [
    {
     "name": "stdout",
     "output_type": "stream",
     "text": [
      "Original List: [4, 8, 2, 10, 15, 18]\n",
      "After Cloning: [4, 8, 2, 10, 15, 18]\n"
     ]
    }
   ],
   "source": [
    "def Cloning(l1):\n",
    "    li_copy = l1[:]\n",
    "    return li_copy\n",
    "   \n",
    "# Driver Code\n",
    "l1 = [4, 8, 2, 10, 15, 18]\n",
    "l2 = Cloning(l1)\n",
    "print(\"Original List:\", l1)\n",
    "print(\"After Cloning:\", l2)"
   ]
  },
  {
   "cell_type": "markdown",
   "id": "2fefc099",
   "metadata": {},
   "source": [
    "## 11. Write a Python program to Count occurrences of an element in a list?"
   ]
  },
  {
   "cell_type": "code",
   "execution_count": 6,
   "id": "b0452cd0",
   "metadata": {},
   "outputs": [
    {
     "name": "stdout",
     "output_type": "stream",
     "text": [
      "Enter the elements of the list: 6,5,4,6,5,8\n",
      "Enter the element to find: 5\n",
      "There are 2 occurences of 5 in (6, 5, 4, 6, 5, 8)\n"
     ]
    }
   ],
   "source": [
    "def checkOccurence():\n",
    "    in_list = eval(input('Enter the elements of the list: '))\n",
    "    in_num = eval(input('Enter the element to find: '))\n",
    "    count = 0\n",
    "    if in_num in in_list:\n",
    "        for ele in in_list:\n",
    "            if ele == in_num:\n",
    "                count = count+1\n",
    "    print(f'There are {count} occurences of {in_num} in {in_list}')\n",
    "    \n",
    "checkOccurence()"
   ]
  }
 ],
 "metadata": {
  "kernelspec": {
   "display_name": "Python 3 (ipykernel)",
   "language": "python",
   "name": "python3"
  },
  "language_info": {
   "codemirror_mode": {
    "name": "ipython",
    "version": 3
   },
   "file_extension": ".py",
   "mimetype": "text/x-python",
   "name": "python",
   "nbconvert_exporter": "python",
   "pygments_lexer": "ipython3",
   "version": "3.9.7"
  }
 },
 "nbformat": 4,
 "nbformat_minor": 5
}
