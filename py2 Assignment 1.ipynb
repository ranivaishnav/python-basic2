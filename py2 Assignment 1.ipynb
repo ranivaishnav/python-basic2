{
 "cells": [
  {
   "cell_type": "markdown",
   "id": "3a7d6c26",
   "metadata": {},
   "source": [
    "## Python Basic Assignment 1"
   ]
  },
  {
   "cell_type": "markdown",
   "id": "af913477",
   "metadata": {},
   "source": [
    "## 1. Write a Python program to print &quot;Hello Python&quot;?"
   ]
  },
  {
   "cell_type": "code",
   "execution_count": 1,
   "id": "86d886de",
   "metadata": {},
   "outputs": [
    {
     "name": "stdout",
     "output_type": "stream",
     "text": [
      "Hello Python\n"
     ]
    }
   ],
   "source": [
    "print(\"Hello Python\")"
   ]
  },
  {
   "cell_type": "markdown",
   "id": "6c99ee20",
   "metadata": {},
   "source": [
    "## 2. Write a Python program to do arithmetical operations addition and division.?"
   ]
  },
  {
   "cell_type": "code",
   "execution_count": 2,
   "id": "0a8606b5",
   "metadata": {},
   "outputs": [
    {
     "name": "stdout",
     "output_type": "stream",
     "text": [
      "Addition10+2=12\n",
      "Division 2/10=0.2\n"
     ]
    }
   ],
   "source": [
    "a=10\n",
    "b=2\n",
    "\n",
    "print(\"Addition{}+{}={}\".format(a,b,a+b))\n",
    "print(\"Division {}/{}={}\".format(b,a,b/a))"
   ]
  },
  {
   "cell_type": "markdown",
   "id": "e2c3434d",
   "metadata": {},
   "source": [
    "## 3. Write a Python program to find the area of a triangle?"
   ]
  },
  {
   "cell_type": "code",
   "execution_count": 3,
   "id": "62a81c0b",
   "metadata": {},
   "outputs": [
    {
     "name": "stdout",
     "output_type": "stream",
     "text": [
      "enter base :3\n",
      "enter height :4\n",
      "area of triangle = 6.0\n"
     ]
    }
   ],
   "source": [
    "# Area pf triangle base*height/2\n",
    "\n",
    "b = int(input(\"enter base :\"))\n",
    "h = int(input(\"enter height :\"))\n",
    "\n",
    "area= b*h/2\n",
    "print(\"area of triangle =\", area)"
   ]
  },
  {
   "cell_type": "markdown",
   "id": "69e83379",
   "metadata": {},
   "source": [
    "## 4. Write a Python program to swap two variables?"
   ]
  },
  {
   "cell_type": "code",
   "execution_count": 4,
   "id": "cb441125",
   "metadata": {},
   "outputs": [
    {
     "name": "stdout",
     "output_type": "stream",
     "text": [
      "before swapping a= 5, b= 10\n",
      "After swapping a=10, b= 5\n"
     ]
    }
   ],
   "source": [
    "a = 5\n",
    "b =10\n",
    "\n",
    "print(\"before swapping a= {}, b= {}\".format(a,b))\n",
    "temp=a\n",
    "a=b\n",
    "b=temp\n",
    "\n",
    "print(\"After swapping a={}, b= {}\".format(a,b))"
   ]
  },
  {
   "cell_type": "markdown",
   "id": "ae5eb0d2",
   "metadata": {},
   "source": [
    "## 5. Write a Python program to generate a random number?"
   ]
  },
  {
   "cell_type": "code",
   "execution_count": 9,
   "id": "62d0b3f7",
   "metadata": {},
   "outputs": [
    {
     "name": "stdout",
     "output_type": "stream",
     "text": [
      "55\n"
     ]
    }
   ],
   "source": [
    "import random\n",
    "rand=random.randint(0,100)\n",
    "print(rand)"
   ]
  }
 ],
 "metadata": {
  "kernelspec": {
   "display_name": "Python 3 (ipykernel)",
   "language": "python",
   "name": "python3"
  },
  "language_info": {
   "codemirror_mode": {
    "name": "ipython",
    "version": 3
   },
   "file_extension": ".py",
   "mimetype": "text/x-python",
   "name": "python",
   "nbconvert_exporter": "python",
   "pygments_lexer": "ipython3",
   "version": "3.9.7"
  }
 },
 "nbformat": 4,
 "nbformat_minor": 5
}
