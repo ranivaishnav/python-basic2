{
 "cells": [
  {
   "cell_type": "markdown",
   "id": "6fc4632e",
   "metadata": {},
   "source": [
    "# Python basic Assignment 16"
   ]
  },
  {
   "cell_type": "markdown",
   "id": "aaaacd6b",
   "metadata": {},
   "source": [
    "## 1.Write a function that stutters a word as if someone is struggling to read it. The first two letters are repeated twice with an ellipsis ... and space after each, and then the word is pronounced with a question mark ?\n",
    " Examples: stutter(\"incredible\") ➞ \"in... in... incredible?\"\n",
    "        \n",
    "stutter(\"enthusiastic\") ➞ \"en... en... enthusiastic?\"\n",
    "\n",
    "stutter(\"outstanding\") ➞ \"ou... ou... outstanding?\""
   ]
  },
  {
   "cell_type": "code",
   "execution_count": 1,
   "id": "dede6c3c",
   "metadata": {},
   "outputs": [
    {
     "name": "stdout",
     "output_type": "stream",
     "text": [
      "Enter word : outstanding\n",
      "ou... ou... outstanding?\n"
     ]
    }
   ],
   "source": [
    "def stutter(word):\n",
    "    return (2*(word[:2]+'... '))+word+'?'\n",
    "word = input('Enter word : ')\n",
    "print(stutter(word))"
   ]
  },
  {
   "cell_type": "markdown",
   "id": "47ff4a0e",
   "metadata": {},
   "source": [
    "## 2..Create a function that takes an angle in radians and returns the corresponding angle in degrees rounded to one decimal place ?\n",
    " Examples: radians_to_degrees(1) ➞ 57.3\n",
    "        \n",
    "radians_to_degrees(20) ➞ 1145.9\n",
    "\n",
    "radians_to_degrees(50) ➞ 2864.8"
   ]
  },
  {
   "cell_type": "code",
   "execution_count": 14,
   "id": "86d79eb9",
   "metadata": {},
   "outputs": [
    {
     "name": "stdout",
     "output_type": "stream",
     "text": [
      "Enter the Radian : 1\n",
      "degree = 57.295827908797776\n"
     ]
    }
   ],
   "source": [
    "# Function for convertion\n",
    "import math\n",
    "def radians_to_degrees(radian):\n",
    "    pi = 3.14159\n",
    "    #formula\n",
    "    degree = radian * (180/pi)\n",
    "    return degree\n",
    "radian = float(input('Enter the Radian : '))\n",
    "print(\"degree =\",(radians_to_degrees(radian)))"
   ]
  },
  {
   "cell_type": "markdown",
   "id": "ba994ac1",
   "metadata": {},
   "source": [
    "## 3.In this challenge, establish if a given integer num is a Curzon number. If 1 plus 2 elevated to num is exactly divisible by 1 plus 2 multiplied by num, then num is a Curzon number. Given a non-negative integer num, implement a function that returns True if num is a Curzon number, or False otherwise.\n",
    " Examples: `is_curzon(5) ➞ True\n",
    " \n",
    "\n",
    "## 2 ** 5 + 1 = 33\n",
    "## 2 * 5 + 1 = 11\n",
    "## 33 is a multiple of 11\n",
    "is_curzon(10) ➞ False\n",
    "\n",
    "## 2 ** 10 + 1 = 1025\n",
    "## 2 * 10 + 1 = 21\n",
    "## 1025 is not a multiple of 21\n",
    "is_curzon(14) ➞ True\n",
    "\n",
    "## 2 ** 14 + 1 = 16385\n",
    "## 2 * 14 + 1 = 29\n",
    "## 16385 is a multiple of 29"
   ]
  },
  {
   "cell_type": "code",
   "execution_count": 20,
   "id": "9c487f0b",
   "metadata": {},
   "outputs": [
    {
     "name": "stdout",
     "output_type": "stream",
     "text": [
      "Enter a number: 10\n",
      "10 is Not a Curzon Number\n",
      "Enter a number: 16\n",
      "16 is Not a Curzon Number\n",
      "Enter a number: 45\n",
      "45 is Not a Curzon Number\n",
      "Enter a number: 23\n",
      "23 is Not a Curzon Number\n"
     ]
    }
   ],
   "source": [
    "def checkCurzon():\n",
    "    in_num = int(input(\"Enter a number: \"))\n",
    "    if (pow(2,in_num)+1)%((2*in_num)+1) == 0:\n",
    "        print('{} is a Curzon Number'.format(in_num))\n",
    "    else:\n",
    "        print('{} is Not a Curzon Number'.format(in_num))\n",
    "\n",
    "for x in range(4):\n",
    "    checkCurzon()"
   ]
  },
  {
   "cell_type": "code",
   "execution_count": 21,
   "id": "7bd0c922",
   "metadata": {},
   "outputs": [
    {
     "name": "stdout",
     "output_type": "stream",
     "text": [
      "Enter a number : 33\n",
      "33 is Curzon Number\n"
     ]
    }
   ],
   "source": [
    "#solution 2\n",
    "def checkIfCurzonNumber(n):\n",
    " \n",
    "    power, product = 0, 0\n",
    " \n",
    "    # Find 2**n + 1\n",
    "    power = pow(2, n) + 1\n",
    " \n",
    "    # Find 2*n + 1\n",
    "    product = 2 * n + 1\n",
    " \n",
    "    # Check for divisibility\n",
    "    if (power % product == 0):\n",
    "        print(n, \"is Curzon Number\")\n",
    "    else:\n",
    "        print(n, \"is not a Curzon Number\")\n",
    "        \n",
    "n = int(input('Enter a number : '))\n",
    "checkIfCurzonNumber(n)"
   ]
  },
  {
   "cell_type": "markdown",
   "id": "f0b27941",
   "metadata": {},
   "source": [
    "# 4.Given the side length x find the area of a hexagon ?\n",
    "Examples: area_of_hexagon(1) ➞ 2.6\n",
    "    \n",
    "area_of_hexagon(2) ➞ 10.4\n",
    "\n",
    "area_of_hexagon(3) ➞ 23.4"
   ]
  },
  {
   "cell_type": "code",
   "execution_count": 22,
   "id": "9b7c4f4a",
   "metadata": {},
   "outputs": [
    {
     "name": "stdout",
     "output_type": "stream",
     "text": [
      "Enter the length : 4\n",
      "Area: 41.5692\n"
     ]
    }
   ],
   "source": [
    "# area of a Hexagon\n",
    "# Area = (3 √3(n*n) ) / 2\n",
    "import math\n",
    "def area_of_hexagon(s):     \n",
    "    return ((3 * math.sqrt(3) * (sideLength * sideLength)) / 2);\n",
    "     \n",
    "#length of a side.\n",
    "sideLength = float(input('Enter the length : '))\n",
    "\n",
    "print(\"Area:\",\"{0:.4f}\".format(area_of_hexagon(sideLength)))"
   ]
  },
  {
   "cell_type": "markdown",
   "id": "7f00c71b",
   "metadata": {},
   "source": [
    "# 5.Create a function that returns a base-2 (binary) representation of a base-10 (decimal) string number. To convert is simple:\n",
    "((2) means base-2 and (10) means base-10)\n",
    "\n",
    "010101001(2) = 1 + 8 + 32 + 128.\n",
    "\n",
    "Going from right to left, the value of the most right bit is 1, now from that every bit to the left will be x2 the value, value of an 8 bit binary numbers are (256, 128, 64, 32, 16, 8, 4, 2, 1).\n",
    "Examples:\n",
    "    \n",
    "`binary(1) ➞ \"1\"\n",
    "\n",
    "## 1* 1 = 1\n",
    "binary(5) ➞ \"101\"\n",
    "\n",
    "## 1 1 + 1 4 = 5\n",
    "binary(10) ➞ \"1010\"\n",
    "\n",
    "## 1 2 + 1 8 = 10`"
   ]
  },
  {
   "cell_type": "code",
   "execution_count": 24,
   "id": "3397bf3b",
   "metadata": {
    "scrolled": true
   },
   "outputs": [
    {
     "name": "stdout",
     "output_type": "stream",
     "text": [
      "0\n",
      "1\n",
      "10\n",
      "11\n",
      "100\n",
      "101\n",
      "110\n",
      "111\n",
      "1000\n",
      "1001\n",
      "1010\n",
      "1011\n",
      "1100\n",
      "1101\n",
      "1110\n",
      "1111\n",
      "10000\n",
      "10001\n",
      "10010\n",
      "10011\n",
      "10100\n",
      "10101\n",
      "10110\n",
      "10111\n",
      "11000\n",
      "11001\n",
      "11010\n",
      "11011\n",
      "11100\n",
      "11101\n"
     ]
    }
   ],
   "source": [
    "# Function to convert Decimal number\n",
    "# to Binary number\n",
    "def decimalToBinary(n):\n",
    "    return bin(n).replace(\"0b\", \"\")\n",
    "   \n",
    "for i in range(0,30):\n",
    "    print(decimalToBinary(i))"
   ]
  },
  {
   "cell_type": "code",
   "execution_count": 25,
   "id": "4a0f1c86",
   "metadata": {},
   "outputs": [
    {
     "name": "stdout",
     "output_type": "stream",
     "text": [
      "Enter a Number: 2\n",
      "Binary of 2 ➞ 10\n",
      "Enter a Number: 5\n",
      "Binary of 5 ➞ 101\n",
      "Enter a Number: 10\n",
      "Binary of 10 ➞ 1010\n"
     ]
    }
   ],
   "source": [
    "# solution 2\n",
    "def getBinary():\n",
    "    in_num = int(input(\"Enter a Number: \"))\n",
    "    out_num = bin(in_num).replace('0b','') \n",
    "    print(f'Binary of {in_num} ➞ {out_num}')\n",
    "\n",
    "for x in range(3):\n",
    "    getBinary()"
   ]
  }
 ],
 "metadata": {
  "kernelspec": {
   "display_name": "Python 3 (ipykernel)",
   "language": "python",
   "name": "python3"
  },
  "language_info": {
   "codemirror_mode": {
    "name": "ipython",
    "version": 3
   },
   "file_extension": ".py",
   "mimetype": "text/x-python",
   "name": "python",
   "nbconvert_exporter": "python",
   "pygments_lexer": "ipython3",
   "version": "3.9.7"
  }
 },
 "nbformat": 4,
 "nbformat_minor": 5
}
